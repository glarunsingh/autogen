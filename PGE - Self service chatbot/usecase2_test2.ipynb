{
 "cells": [
  {
   "cell_type": "code",
   "execution_count": 6,
   "metadata": {},
   "outputs": [
    {
     "name": "stdout",
     "output_type": "stream",
     "text": [
      "Requirement already satisfied: langchain-openai in c:\\users\\817840\\appdata\\local\\programs\\python\\python311\\lib\\site-packages (0.2.3)\n",
      "Requirement already satisfied: langchain-core<0.4.0,>=0.3.12 in c:\\users\\817840\\appdata\\local\\programs\\python\\python311\\lib\\site-packages (from langchain-openai) (0.3.12)\n",
      "Requirement already satisfied: openai<2.0.0,>=1.52.0 in c:\\users\\817840\\appdata\\local\\programs\\python\\python311\\lib\\site-packages (from langchain-openai) (1.52.0)\n",
      "Requirement already satisfied: tiktoken<1,>=0.7 in c:\\users\\817840\\appdata\\local\\programs\\python\\python311\\lib\\site-packages (from langchain-openai) (0.8.0)\n",
      "Requirement already satisfied: PyYAML>=5.3 in c:\\users\\817840\\appdata\\local\\programs\\python\\python311\\lib\\site-packages (from langchain-core<0.4.0,>=0.3.12->langchain-openai) (6.0.2)\n",
      "Requirement already satisfied: jsonpatch<2.0,>=1.33 in c:\\users\\817840\\appdata\\local\\programs\\python\\python311\\lib\\site-packages (from langchain-core<0.4.0,>=0.3.12->langchain-openai) (1.33)\n",
      "Requirement already satisfied: langsmith<0.2.0,>=0.1.125 in c:\\users\\817840\\appdata\\local\\programs\\python\\python311\\lib\\site-packages (from langchain-core<0.4.0,>=0.3.12->langchain-openai) (0.1.136)\n",
      "Requirement already satisfied: packaging<25,>=23.2 in c:\\users\\817840\\appdata\\roaming\\python\\python311\\site-packages (from langchain-core<0.4.0,>=0.3.12->langchain-openai) (24.1)\n",
      "Requirement already satisfied: pydantic<3.0.0,>=2.5.2 in c:\\users\\817840\\appdata\\local\\programs\\python\\python311\\lib\\site-packages (from langchain-core<0.4.0,>=0.3.12->langchain-openai) (2.9.2)\n",
      "Requirement already satisfied: tenacity!=8.4.0,<10.0.0,>=8.1.0 in c:\\users\\817840\\appdata\\local\\programs\\python\\python311\\lib\\site-packages (from langchain-core<0.4.0,>=0.3.12->langchain-openai) (9.0.0)\n",
      "Requirement already satisfied: typing-extensions>=4.7 in c:\\users\\817840\\appdata\\roaming\\python\\python311\\site-packages (from langchain-core<0.4.0,>=0.3.12->langchain-openai) (4.12.2)\n",
      "Requirement already satisfied: anyio<5,>=3.5.0 in c:\\users\\817840\\appdata\\local\\programs\\python\\python311\\lib\\site-packages (from openai<2.0.0,>=1.52.0->langchain-openai) (4.6.2.post1)\n",
      "Requirement already satisfied: distro<2,>=1.7.0 in c:\\users\\817840\\appdata\\local\\programs\\python\\python311\\lib\\site-packages (from openai<2.0.0,>=1.52.0->langchain-openai) (1.9.0)\n",
      "Requirement already satisfied: httpx<1,>=0.23.0 in c:\\users\\817840\\appdata\\local\\programs\\python\\python311\\lib\\site-packages (from openai<2.0.0,>=1.52.0->langchain-openai) (0.27.2)\n",
      "Requirement already satisfied: jiter<1,>=0.4.0 in c:\\users\\817840\\appdata\\local\\programs\\python\\python311\\lib\\site-packages (from openai<2.0.0,>=1.52.0->langchain-openai) (0.6.1)\n",
      "Requirement already satisfied: sniffio in c:\\users\\817840\\appdata\\local\\programs\\python\\python311\\lib\\site-packages (from openai<2.0.0,>=1.52.0->langchain-openai) (1.3.1)\n",
      "Requirement already satisfied: tqdm>4 in c:\\users\\817840\\appdata\\local\\programs\\python\\python311\\lib\\site-packages (from openai<2.0.0,>=1.52.0->langchain-openai) (4.66.5)\n",
      "Requirement already satisfied: regex>=2022.1.18 in c:\\users\\817840\\appdata\\local\\programs\\python\\python311\\lib\\site-packages (from tiktoken<1,>=0.7->langchain-openai) (2024.9.11)\n",
      "Requirement already satisfied: requests>=2.26.0 in c:\\users\\817840\\appdata\\local\\programs\\python\\python311\\lib\\site-packages (from tiktoken<1,>=0.7->langchain-openai) (2.32.3)\n",
      "Requirement already satisfied: idna>=2.8 in c:\\users\\817840\\appdata\\local\\programs\\python\\python311\\lib\\site-packages (from anyio<5,>=3.5.0->openai<2.0.0,>=1.52.0->langchain-openai) (3.10)\n",
      "Requirement already satisfied: certifi in c:\\users\\817840\\appdata\\local\\programs\\python\\python311\\lib\\site-packages (from httpx<1,>=0.23.0->openai<2.0.0,>=1.52.0->langchain-openai) (2024.8.30)\n",
      "Requirement already satisfied: httpcore==1.* in c:\\users\\817840\\appdata\\local\\programs\\python\\python311\\lib\\site-packages (from httpx<1,>=0.23.0->openai<2.0.0,>=1.52.0->langchain-openai) (1.0.6)\n",
      "Requirement already satisfied: h11<0.15,>=0.13 in c:\\users\\817840\\appdata\\local\\programs\\python\\python311\\lib\\site-packages (from httpcore==1.*->httpx<1,>=0.23.0->openai<2.0.0,>=1.52.0->langchain-openai) (0.14.0)\n",
      "Requirement already satisfied: jsonpointer>=1.9 in c:\\users\\817840\\appdata\\local\\programs\\python\\python311\\lib\\site-packages (from jsonpatch<2.0,>=1.33->langchain-core<0.4.0,>=0.3.12->langchain-openai) (3.0.0)\n",
      "Requirement already satisfied: orjson<4.0.0,>=3.9.14 in c:\\users\\817840\\appdata\\local\\programs\\python\\python311\\lib\\site-packages (from langsmith<0.2.0,>=0.1.125->langchain-core<0.4.0,>=0.3.12->langchain-openai) (3.10.9)\n",
      "Requirement already satisfied: requests-toolbelt<2.0.0,>=1.0.0 in c:\\users\\817840\\appdata\\local\\programs\\python\\python311\\lib\\site-packages (from langsmith<0.2.0,>=0.1.125->langchain-core<0.4.0,>=0.3.12->langchain-openai) (1.0.0)\n",
      "Requirement already satisfied: annotated-types>=0.6.0 in c:\\users\\817840\\appdata\\local\\programs\\python\\python311\\lib\\site-packages (from pydantic<3.0.0,>=2.5.2->langchain-core<0.4.0,>=0.3.12->langchain-openai) (0.7.0)\n",
      "Requirement already satisfied: pydantic-core==2.23.4 in c:\\users\\817840\\appdata\\local\\programs\\python\\python311\\lib\\site-packages (from pydantic<3.0.0,>=2.5.2->langchain-core<0.4.0,>=0.3.12->langchain-openai) (2.23.4)\n",
      "Requirement already satisfied: charset-normalizer<4,>=2 in c:\\users\\817840\\appdata\\local\\programs\\python\\python311\\lib\\site-packages (from requests>=2.26.0->tiktoken<1,>=0.7->langchain-openai) (3.3.2)\n",
      "Requirement already satisfied: urllib3<3,>=1.21.1 in c:\\users\\817840\\appdata\\local\\programs\\python\\python311\\lib\\site-packages (from requests>=2.26.0->tiktoken<1,>=0.7->langchain-openai) (2.2.3)\n",
      "Requirement already satisfied: colorama in c:\\users\\817840\\appdata\\roaming\\python\\python311\\site-packages (from tqdm>4->openai<2.0.0,>=1.52.0->langchain-openai) (0.4.6)\n",
      "Note: you may need to restart the kernel to use updated packages.\n"
     ]
    }
   ],
   "source": [
    "pip install langchain-openai"
   ]
  },
  {
   "cell_type": "code",
   "execution_count": 10,
   "metadata": {},
   "outputs": [
    {
     "name": "stdout",
     "output_type": "stream",
     "text": [
      "Collecting unstructuredNote: you may need to restart the kernel to use updated packages.\n",
      "\n",
      "  Using cached unstructured-0.16.0-py3-none-any.whl.metadata (24 kB)\n",
      "Collecting chardet (from unstructured)\n",
      "  Downloading chardet-5.2.0-py3-none-any.whl.metadata (3.4 kB)\n",
      "Collecting filetype (from unstructured)\n",
      "  Downloading filetype-1.2.0-py2.py3-none-any.whl.metadata (6.5 kB)\n",
      "Collecting python-magic (from unstructured)\n",
      "  Downloading python_magic-0.4.27-py2.py3-none-any.whl.metadata (5.8 kB)\n",
      "Collecting lxml (from unstructured)\n",
      "  Downloading lxml-5.3.0-cp311-cp311-win_amd64.whl.metadata (3.9 kB)\n",
      "Collecting nltk (from unstructured)\n",
      "  Downloading nltk-3.9.1-py3-none-any.whl.metadata (2.9 kB)\n",
      "Collecting tabulate (from unstructured)\n",
      "  Downloading tabulate-0.9.0-py3-none-any.whl.metadata (34 kB)\n",
      "Requirement already satisfied: requests in c:\\users\\817840\\appdata\\local\\programs\\python\\python311\\lib\\site-packages (from unstructured) (2.32.3)\n",
      "Collecting beautifulsoup4 (from unstructured)\n",
      "  Using cached beautifulsoup4-4.12.3-py3-none-any.whl.metadata (3.8 kB)\n",
      "Collecting emoji (from unstructured)\n",
      "  Downloading emoji-2.14.0-py3-none-any.whl.metadata (5.7 kB)\n",
      "Requirement already satisfied: dataclasses-json in c:\\users\\817840\\appdata\\local\\programs\\python\\python311\\lib\\site-packages (from unstructured) (0.6.7)\n",
      "Collecting python-iso639 (from unstructured)\n",
      "  Downloading python_iso639-2024.10.22-py3-none-any.whl.metadata (13 kB)\n",
      "Collecting langdetect (from unstructured)\n",
      "  Downloading langdetect-1.0.9.tar.gz (981 kB)\n",
      "     ---------------------------------------- 0.0/981.5 kB ? eta -:--:--\n",
      "     -------------------------------------- 981.5/981.5 kB 7.7 MB/s eta 0:00:00\n",
      "  Installing build dependencies: started\n",
      "  Installing build dependencies: finished with status 'done'\n",
      "  Getting requirements to build wheel: started\n",
      "  Getting requirements to build wheel: finished with status 'done'\n",
      "  Preparing metadata (pyproject.toml): started\n",
      "  Preparing metadata (pyproject.toml): finished with status 'done'\n",
      "Requirement already satisfied: numpy<2 in c:\\users\\817840\\appdata\\local\\programs\\python\\python311\\lib\\site-packages (from unstructured) (1.26.4)\n",
      "Collecting rapidfuzz (from unstructured)\n",
      "  Downloading rapidfuzz-3.10.0-cp311-cp311-win_amd64.whl.metadata (11 kB)\n",
      "Collecting backoff (from unstructured)\n",
      "  Using cached backoff-2.2.1-py3-none-any.whl.metadata (14 kB)\n",
      "Requirement already satisfied: typing-extensions in c:\\users\\817840\\appdata\\roaming\\python\\python311\\site-packages (from unstructured) (4.12.2)\n",
      "Collecting unstructured-client (from unstructured)\n",
      "  Downloading unstructured_client-0.26.1-py3-none-any.whl.metadata (20 kB)\n",
      "Collecting wrapt (from unstructured)\n",
      "  Downloading wrapt-1.16.0-cp311-cp311-win_amd64.whl.metadata (6.8 kB)\n",
      "Requirement already satisfied: tqdm in c:\\users\\817840\\appdata\\local\\programs\\python\\python311\\lib\\site-packages (from unstructured) (4.66.5)\n",
      "Requirement already satisfied: psutil in c:\\users\\817840\\appdata\\roaming\\python\\python311\\site-packages (from unstructured) (6.0.0)\n",
      "Collecting python-oxmsg (from unstructured)\n",
      "  Downloading python_oxmsg-0.0.1-py3-none-any.whl.metadata (5.0 kB)\n",
      "Collecting soupsieve>1.2 (from beautifulsoup4->unstructured)\n",
      "  Downloading soupsieve-2.6-py3-none-any.whl.metadata (4.6 kB)\n",
      "Requirement already satisfied: marshmallow<4.0.0,>=3.18.0 in c:\\users\\817840\\appdata\\local\\programs\\python\\python311\\lib\\site-packages (from dataclasses-json->unstructured) (3.23.0)\n",
      "Requirement already satisfied: typing-inspect<1,>=0.4.0 in c:\\users\\817840\\appdata\\local\\programs\\python\\python311\\lib\\site-packages (from dataclasses-json->unstructured) (0.9.0)\n",
      "Requirement already satisfied: six in c:\\users\\817840\\appdata\\roaming\\python\\python311\\site-packages (from langdetect->unstructured) (1.16.0)\n",
      "Collecting click (from nltk->unstructured)\n",
      "  Using cached click-8.1.7-py3-none-any.whl.metadata (3.0 kB)\n",
      "Collecting joblib (from nltk->unstructured)\n",
      "  Downloading joblib-1.4.2-py3-none-any.whl.metadata (5.4 kB)\n",
      "Requirement already satisfied: regex>=2021.8.3 in c:\\users\\817840\\appdata\\local\\programs\\python\\python311\\lib\\site-packages (from nltk->unstructured) (2024.9.11)\n",
      "Collecting olefile (from python-oxmsg->unstructured)\n",
      "  Downloading olefile-0.47-py2.py3-none-any.whl.metadata (9.7 kB)\n",
      "Requirement already satisfied: charset-normalizer<4,>=2 in c:\\users\\817840\\appdata\\local\\programs\\python\\python311\\lib\\site-packages (from requests->unstructured) (3.3.2)\n",
      "Requirement already satisfied: idna<4,>=2.5 in c:\\users\\817840\\appdata\\local\\programs\\python\\python311\\lib\\site-packages (from requests->unstructured) (3.10)\n",
      "Requirement already satisfied: urllib3<3,>=1.21.1 in c:\\users\\817840\\appdata\\local\\programs\\python\\python311\\lib\\site-packages (from requests->unstructured) (2.2.3)\n",
      "Requirement already satisfied: certifi>=2017.4.17 in c:\\users\\817840\\appdata\\local\\programs\\python\\python311\\lib\\site-packages (from requests->unstructured) (2024.8.30)\n",
      "Requirement already satisfied: colorama in c:\\users\\817840\\appdata\\roaming\\python\\python311\\site-packages (from tqdm->unstructured) (0.4.6)\n",
      "Requirement already satisfied: cryptography>=3.1 in c:\\users\\817840\\appdata\\local\\programs\\python\\python311\\lib\\site-packages (from unstructured-client->unstructured) (43.0.3)\n",
      "Collecting eval-type-backport<0.3.0,>=0.2.0 (from unstructured-client->unstructured)\n",
      "  Downloading eval_type_backport-0.2.0-py3-none-any.whl.metadata (2.2 kB)\n",
      "Requirement already satisfied: httpx>=0.27.0 in c:\\users\\817840\\appdata\\local\\programs\\python\\python311\\lib\\site-packages (from unstructured-client->unstructured) (0.27.2)\n",
      "Collecting jsonpath-python<2.0.0,>=1.0.6 (from unstructured-client->unstructured)\n",
      "  Downloading jsonpath_python-1.0.6-py3-none-any.whl.metadata (12 kB)\n",
      "Requirement already satisfied: nest-asyncio>=1.6.0 in c:\\users\\817840\\appdata\\roaming\\python\\python311\\site-packages (from unstructured-client->unstructured) (1.6.0)\n",
      "Requirement already satisfied: pydantic<2.10.0,>=2.9.0 in c:\\users\\817840\\appdata\\local\\programs\\python\\python311\\lib\\site-packages (from unstructured-client->unstructured) (2.9.2)\n",
      "Collecting pypdf>=4.0 (from unstructured-client->unstructured)\n",
      "  Downloading pypdf-5.0.1-py3-none-any.whl.metadata (7.4 kB)\n",
      "Collecting python-dateutil==2.8.2 (from unstructured-client->unstructured)\n",
      "  Downloading python_dateutil-2.8.2-py2.py3-none-any.whl.metadata (8.2 kB)\n",
      "Requirement already satisfied: requests-toolbelt>=1.0.0 in c:\\users\\817840\\appdata\\local\\programs\\python\\python311\\lib\\site-packages (from unstructured-client->unstructured) (1.0.0)\n",
      "Requirement already satisfied: cffi>=1.12 in c:\\users\\817840\\appdata\\local\\programs\\python\\python311\\lib\\site-packages (from cryptography>=3.1->unstructured-client->unstructured) (1.17.1)\n",
      "Requirement already satisfied: anyio in c:\\users\\817840\\appdata\\local\\programs\\python\\python311\\lib\\site-packages (from httpx>=0.27.0->unstructured-client->unstructured) (4.6.2.post1)\n",
      "Requirement already satisfied: httpcore==1.* in c:\\users\\817840\\appdata\\local\\programs\\python\\python311\\lib\\site-packages (from httpx>=0.27.0->unstructured-client->unstructured) (1.0.6)\n",
      "Requirement already satisfied: sniffio in c:\\users\\817840\\appdata\\local\\programs\\python\\python311\\lib\\site-packages (from httpx>=0.27.0->unstructured-client->unstructured) (1.3.1)\n",
      "Requirement already satisfied: h11<0.15,>=0.13 in c:\\users\\817840\\appdata\\local\\programs\\python\\python311\\lib\\site-packages (from httpcore==1.*->httpx>=0.27.0->unstructured-client->unstructured) (0.14.0)\n",
      "Requirement already satisfied: packaging>=17.0 in c:\\users\\817840\\appdata\\roaming\\python\\python311\\site-packages (from marshmallow<4.0.0,>=3.18.0->dataclasses-json->unstructured) (24.1)\n",
      "Requirement already satisfied: annotated-types>=0.6.0 in c:\\users\\817840\\appdata\\local\\programs\\python\\python311\\lib\\site-packages (from pydantic<2.10.0,>=2.9.0->unstructured-client->unstructured) (0.7.0)\n",
      "Requirement already satisfied: pydantic-core==2.23.4 in c:\\users\\817840\\appdata\\local\\programs\\python\\python311\\lib\\site-packages (from pydantic<2.10.0,>=2.9.0->unstructured-client->unstructured) (2.23.4)\n",
      "Requirement already satisfied: mypy-extensions>=0.3.0 in c:\\users\\817840\\appdata\\local\\programs\\python\\python311\\lib\\site-packages (from typing-inspect<1,>=0.4.0->dataclasses-json->unstructured) (1.0.0)\n",
      "Requirement already satisfied: pycparser in c:\\users\\817840\\appdata\\local\\programs\\python\\python311\\lib\\site-packages (from cffi>=1.12->cryptography>=3.1->unstructured-client->unstructured) (2.22)\n",
      "Downloading unstructured-0.16.0-py3-none-any.whl (1.7 MB)\n",
      "   ---------------------------------------- 0.0/1.7 MB ? eta -:--:--\n",
      "   ------------------------------ --------- 1.3/1.7 MB 8.4 MB/s eta 0:00:01\n",
      "   ---------------------------------------- 1.7/1.7 MB 5.5 MB/s eta 0:00:00\n",
      "Using cached backoff-2.2.1-py3-none-any.whl (15 kB)\n",
      "Using cached beautifulsoup4-4.12.3-py3-none-any.whl (147 kB)\n",
      "Downloading chardet-5.2.0-py3-none-any.whl (199 kB)\n",
      "Downloading emoji-2.14.0-py3-none-any.whl (586 kB)\n",
      "   ---------------------------------------- 0.0/586.9 kB ? eta -:--:--\n",
      "   ---------------------------------------- 586.9/586.9 kB 4.1 MB/s eta 0:00:00\n",
      "Downloading filetype-1.2.0-py2.py3-none-any.whl (19 kB)\n",
      "Downloading lxml-5.3.0-cp311-cp311-win_amd64.whl (3.8 MB)\n",
      "   ---------------------------------------- 0.0/3.8 MB ? eta -:--:--\n",
      "   ------------------- -------------------- 1.8/3.8 MB 11.2 MB/s eta 0:00:01\n",
      "   --------------------- ------------------ 2.1/3.8 MB 4.5 MB/s eta 0:00:01\n",
      "   -------------------------------------- - 3.7/3.8 MB 6.2 MB/s eta 0:00:01\n",
      "   ---------------------------------------- 3.8/3.8 MB 5.3 MB/s eta 0:00:00\n",
      "Downloading nltk-3.9.1-py3-none-any.whl (1.5 MB)\n",
      "   ---------------------------------------- 0.0/1.5 MB ? eta -:--:--\n",
      "   ---------------------------------------- 1.5/1.5 MB 9.9 MB/s eta 0:00:00\n",
      "Downloading python_iso639-2024.10.22-py3-none-any.whl (274 kB)\n",
      "Downloading python_magic-0.4.27-py2.py3-none-any.whl (13 kB)\n",
      "Downloading python_oxmsg-0.0.1-py3-none-any.whl (31 kB)\n",
      "Downloading rapidfuzz-3.10.0-cp311-cp311-win_amd64.whl (1.6 MB)\n",
      "   ---------------------------------------- 0.0/1.6 MB ? eta -:--:--\n",
      "   -------------------------------------- - 1.6/1.6 MB 10.5 MB/s eta 0:00:01\n",
      "   ---------------------------------------- 1.6/1.6 MB 7.2 MB/s eta 0:00:00\n",
      "Downloading tabulate-0.9.0-py3-none-any.whl (35 kB)\n",
      "Downloading unstructured_client-0.26.1-py3-none-any.whl (60 kB)\n",
      "Downloading python_dateutil-2.8.2-py2.py3-none-any.whl (247 kB)\n",
      "Downloading wrapt-1.16.0-cp311-cp311-win_amd64.whl (37 kB)\n",
      "Downloading eval_type_backport-0.2.0-py3-none-any.whl (5.9 kB)\n",
      "Downloading jsonpath_python-1.0.6-py3-none-any.whl (7.6 kB)\n",
      "Downloading pypdf-5.0.1-py3-none-any.whl (294 kB)\n",
      "Downloading soupsieve-2.6-py3-none-any.whl (36 kB)\n",
      "Using cached click-8.1.7-py3-none-any.whl (97 kB)\n",
      "Downloading joblib-1.4.2-py3-none-any.whl (301 kB)\n",
      "Downloading olefile-0.47-py2.py3-none-any.whl (114 kB)\n",
      "Building wheels for collected packages: langdetect\n",
      "  Building wheel for langdetect (pyproject.toml): started\n",
      "  Building wheel for langdetect (pyproject.toml): finished with status 'done'\n",
      "  Created wheel for langdetect: filename=langdetect-1.0.9-py3-none-any.whl size=993251 sha256=2ab611184bbbf66f8ba5c0c65895c032c11bf2d0ed45b6a461eb788eddb44ae1\n",
      "  Stored in directory: c:\\users\\817840\\appdata\\local\\pip\\cache\\wheels\\0a\\f2\\b2\\e5ca405801e05eb7c8ed5b3b4bcf1fcabcd6272c167640072e\n",
      "Successfully built langdetect\n",
      "Installing collected packages: filetype, wrapt, tabulate, soupsieve, rapidfuzz, python-magic, python-iso639, python-dateutil, pypdf, olefile, lxml, langdetect, jsonpath-python, joblib, eval-type-backport, emoji, click, chardet, backoff, python-oxmsg, nltk, beautifulsoup4, unstructured-client, unstructured\n",
      "  Attempting uninstall: python-dateutil\n",
      "    Found existing installation: python-dateutil 2.9.0.post0\n",
      "    Uninstalling python-dateutil-2.9.0.post0:\n",
      "      Successfully uninstalled python-dateutil-2.9.0.post0\n",
      "Successfully installed backoff-2.2.1 beautifulsoup4-4.12.3 chardet-5.2.0 click-8.1.7 emoji-2.14.0 eval-type-backport-0.2.0 filetype-1.2.0 joblib-1.4.2 jsonpath-python-1.0.6 langdetect-1.0.9 lxml-5.3.0 nltk-3.9.1 olefile-0.47 pypdf-5.0.1 python-dateutil-2.8.2 python-iso639-2024.10.22 python-magic-0.4.27 python-oxmsg-0.0.1 rapidfuzz-3.10.0 soupsieve-2.6 tabulate-0.9.0 unstructured-0.16.0 unstructured-client-0.26.1 wrapt-1.16.0\n"
     ]
    }
   ],
   "source": [
    "pip install unstructured"
   ]
  },
  {
   "cell_type": "code",
   "execution_count": 1,
   "metadata": {},
   "outputs": [
    {
     "name": "stdout",
     "output_type": "stream",
     "text": [
      "Requirement already satisfied: langchain in c:\\users\\817840\\appdata\\local\\programs\\python\\python311\\lib\\site-packages (0.3.4)\n",
      "Requirement already satisfied: python-dotenv in c:\\users\\817840\\appdata\\local\\programs\\python\\python311\\lib\\site-packages (1.0.1)\n",
      "Collecting unstructured\n",
      "  Downloading unstructured-0.16.0-py3-none-any.whl.metadata (24 kB)\n",
      "Note: you may need to restart the kernel to use updated packages.\n"
     ]
    },
    {
     "name": "stderr",
     "output_type": "stream",
     "text": [
      "ERROR: Could not find a version that satisfies the requirement azure-openai (from versions: none)\n",
      "ERROR: No matching distribution found for azure-openai\n"
     ]
    }
   ],
   "source": [
    "pip install langchain python-dotenv unstructured azure-openai"
   ]
  },
  {
   "cell_type": "code",
   "execution_count": 1,
   "metadata": {},
   "outputs": [],
   "source": [
    "import os\n",
    "from typing import List, Dict\n",
    "from langchain.document_loaders import UnstructuredFileLoader\n",
    "from langchain.text_splitter import RecursiveCharacterTextSplitter\n",
    "from langchain.chat_models import AzureChatOpenAI\n",
    "from langchain.chains import SequentialChain, LLMChain\n",
    "from langchain.prompts import PromptTemplate\n",
    "from langchain.callbacks import get_openai_callback\n",
    "from langchain_openai import AzureChatOpenAI"
   ]
  },
  {
   "cell_type": "code",
   "execution_count": 2,
   "metadata": {},
   "outputs": [],
   "source": [
    "class PDDAnalyzer:\n",
    "    def __init__(self):\n",
    "        # Initialize Azure OpenAI\n",
    "        self.llm = AzureChatOpenAI(\n",
    "            openai_api_version=os.getenv(\"AZURE_OPENAI_API_VERSION\"),\n",
    "            azure_endpoint=os.getenv(\"AZURE_OPENAI_ENDPOINT\"),\n",
    "            azure_deployment=os.getenv(\"AZURE_OPENAI_CHAT_DEPLOYMENT_NAME\"),\n",
    "            openai_api_key=os.getenv(\"AZURE_OPENAI_API_KEY\"),\n",
    "            model_name=os.getenv(\"LLM_MODEL\"),\n",
    "            temperature=0\n",
    "        )\n",
    "        \n",
    "        self.text_splitter = RecursiveCharacterTextSplitter(\n",
    "            chunk_size=2000,\n",
    "            chunk_overlap=200\n",
    "        )\n",
    "        \n",
    "    def load_document(self, file_path: str) -> str:\n",
    "        \"\"\"Load and process document from specified path\"\"\"\n",
    "        try:\n",
    "            loader = UnstructuredFileLoader(file_path)\n",
    "            documents = loader.load()\n",
    "            splits = self.text_splitter.split_documents(documents)\n",
    "            return \"\\n\".join([doc.page_content for doc in splits])\n",
    "        except Exception as e:\n",
    "            print(f\"Error loading document: {str(e)}\")\n",
    "            raise\n",
    "\n",
    "    def setup_prompts(self) -> Dict[str, PromptTemplate]:\n",
    "        \"\"\"Setup all prompt templates\"\"\"\n",
    "        prompts = {\n",
    "            \"summarize\": PromptTemplate(\n",
    "                input_variables=[\"content\"],\n",
    "                template=\"\"\"Summarize the following process design document content:\n",
    "                {content}\n",
    "                \n",
    "                Provide a clear and concise summary focusing on:\n",
    "                1. Main objectives\n",
    "                2. Key processes\n",
    "                3. System interactions\n",
    "                \"\"\"\n",
    "            ),\n",
    "            \n",
    "            \"extract_steps\": PromptTemplate(\n",
    "                input_variables=[\"content\", \"summary\"],\n",
    "                template=\"\"\"Based on this process design document and its summary:\n",
    "                Summary: {summary}\n",
    "                Content: {content}\n",
    "                \n",
    "                List all the implementation steps in a clear, numbered format.\n",
    "                For each step, include:\n",
    "                - Step description\n",
    "                - Input requirements\n",
    "                - Expected output\n",
    "                \"\"\"\n",
    "            ),\n",
    "            \n",
    "            \"technical_solution\": PromptTemplate(\n",
    "                input_variables=[\"steps\", \"technology\"],\n",
    "                template=\"\"\"Given these implementation steps:\n",
    "                {steps}\n",
    "                \n",
    "                Provide a detailed technical solution using {technology} technology.\n",
    "                Include:\n",
    "                1. Specific components/modules needed\n",
    "                2. Implementation approach for each step\n",
    "                3. Potential technical challenges\n",
    "                4. Integration points\n",
    "                \"\"\"\n",
    "            ),\n",
    "            \n",
    "            \"time_estimation\": PromptTemplate(\n",
    "                input_variables=[\"solution\", \"skill_level\"],\n",
    "                template=\"\"\"Based on this technical solution:\n",
    "                {solution}\n",
    "                \n",
    "                Estimate the implementation time for each component considering a {skill_level} developer.\n",
    "                Provide:\n",
    "                1. Time estimate per component\n",
    "                2. Total project duration\n",
    "                3. Potential bottlenecks\n",
    "                4. Risk factors affecting timeline\n",
    "                \"\"\"\n",
    "            ),\n",
    "            \n",
    "            \"cost_estimation\": PromptTemplate(\n",
    "                input_variables=[\"time_estimate\", \"technology\"],\n",
    "                template=\"\"\"Based on the implementation timeline:\n",
    "                {time_estimate}\n",
    "                \n",
    "                Provide a detailed cost estimation for implementing this solution with {technology}.\n",
    "                Include:\n",
    "                1. Development costs (using standard rates)\n",
    "                2. Infrastructure/hosting costs\n",
    "                3. Third-party services/licenses\n",
    "                4. Maintenance costs\n",
    "                5. Total project cost range\n",
    "                \"\"\"\n",
    "            )\n",
    "        }\n",
    "        return prompts\n",
    "\n",
    "    def create_chains(self, prompts: Dict[str, PromptTemplate]) -> SequentialChain:\n",
    "        \"\"\"Create sequential chain from prompts\"\"\"\n",
    "        chains = {\n",
    "            \"summary\": LLMChain(\n",
    "                llm=self.llm,\n",
    "                prompt=prompts[\"summarize\"],\n",
    "                output_key=\"summary\"\n",
    "            ),\n",
    "            \"steps\": LLMChain(\n",
    "                llm=self.llm,\n",
    "                prompt=prompts[\"extract_steps\"],\n",
    "                output_key=\"steps\"\n",
    "            ),\n",
    "            \"solution\": LLMChain(\n",
    "                llm=self.llm,\n",
    "                prompt=prompts[\"technical_solution\"],\n",
    "                output_key=\"solution\"\n",
    "            ),\n",
    "            \"time\": LLMChain(\n",
    "                llm=self.llm,\n",
    "                prompt=prompts[\"time_estimation\"],\n",
    "                output_key=\"time_estimate\"\n",
    "            ),\n",
    "            \"cost\": LLMChain(\n",
    "                llm=self.llm,\n",
    "                prompt=prompts[\"cost_estimation\"],\n",
    "                output_key=\"cost_estimate\"\n",
    "            )\n",
    "        }\n",
    "        \n",
    "        return SequentialChain(\n",
    "            chains=[chains[\"summary\"], chains[\"steps\"], chains[\"solution\"], \n",
    "                   chains[\"time\"], chains[\"cost\"]],\n",
    "            input_variables=[\"content\", \"technology\", \"skill_level\"],\n",
    "            output_variables=[\"summary\", \"steps\", \"solution\", \"time_estimate\", \"cost_estimate\"]\n",
    "        )\n",
    "\n",
    "    def analyze_pdd(self, file_path: str, technology: str, skill_level: str) -> Dict:\n",
    "        \"\"\"Main method to analyze PDD document\"\"\"\n",
    "        try:\n",
    "            content = self.load_document(file_path)\n",
    "            prompts = self.setup_prompts()\n",
    "            chain = self.create_chains(prompts)\n",
    "            \n",
    "            with get_openai_callback() as cb:\n",
    "                result = chain({\"content\": content, \n",
    "                              \"technology\": technology,\n",
    "                              \"skill_level\": skill_level})\n",
    "                print(f\"\\nTotal Tokens Used: {cb.total_tokens}\")\n",
    "                print(f\"Total Cost (USD): ${cb.total_cost}\")\n",
    "            \n",
    "            return result\n",
    "        except Exception as e:\n",
    "            print(f\"Error during analysis: {str(e)}\")\n",
    "            raise\n",
    "\n"
   ]
  },
  {
   "cell_type": "code",
   "execution_count": 3,
   "metadata": {},
   "outputs": [],
   "source": [
    "# Example usage in Jupyter notebook\n",
    "\n",
    "# First set up your environment variables\n",
    "import os\n",
    "\n",
    "os.environ[\"AZURE_OPENAI_API_VERSION\"] = \"2023-07-01-preview\"\n",
    "os.environ[\"AZURE_OPENAI_ENDPOINT\"] = 'https://dskumar.openai.azure.com/'\n",
    "os.environ[\"AZURE_OPENAI_API_KEY\"] = \"62855d6dd08945819bf83aee0c104127\"\n",
    "os.environ[\"AZURE_OPENAI_CHAT_DEPLOYMENT_NAME\"] = \"DskumarDeployment\"\n",
    "os.environ['OPENAI_TYPE'] = \"Azure\"\n",
    "os.environ[\"LLM_MODEL\"] = \"gpt-35-turbo-16k\"\n",
    "os.environ[\"LLM_EMBEDDING_MODEL\"] = \"dskumar-text-embedding-ada-002\"\n",
    "\n"
   ]
  },
  {
   "cell_type": "code",
   "execution_count": 4,
   "metadata": {},
   "outputs": [],
   "source": [
    "# Initialize analyzer\n",
    "analyzer = PDDAnalyzer()"
   ]
  },
  {
   "cell_type": "code",
   "execution_count": 11,
   "metadata": {},
   "outputs": [
    {
     "name": "stdout",
     "output_type": "stream",
     "text": [
      "Collecting langchain-unstructured\n",
      "  Downloading langchain_unstructured-0.1.5-py3-none-any.whl.metadata (3.2 kB)\n",
      "Requirement already satisfied: langchain-core<0.4,>=0.3 in c:\\users\\817840\\appdata\\local\\programs\\python\\python311\\lib\\site-packages (from langchain-unstructured) (0.3.12)\n",
      "Collecting unstructured-client<0.26.0,>=0.25.0 (from langchain-unstructured)\n",
      "  Downloading unstructured_client-0.25.9-py3-none-any.whl.metadata (15 kB)\n",
      "Requirement already satisfied: PyYAML>=5.3 in c:\\users\\817840\\appdata\\local\\programs\\python\\python311\\lib\\site-packages (from langchain-core<0.4,>=0.3->langchain-unstructured) (6.0.2)\n",
      "Requirement already satisfied: jsonpatch<2.0,>=1.33 in c:\\users\\817840\\appdata\\local\\programs\\python\\python311\\lib\\site-packages (from langchain-core<0.4,>=0.3->langchain-unstructured) (1.33)\n",
      "Requirement already satisfied: langsmith<0.2.0,>=0.1.125 in c:\\users\\817840\\appdata\\local\\programs\\python\\python311\\lib\\site-packages (from langchain-core<0.4,>=0.3->langchain-unstructured) (0.1.136)\n",
      "Requirement already satisfied: packaging<25,>=23.2 in c:\\users\\817840\\appdata\\roaming\\python\\python311\\site-packages (from langchain-core<0.4,>=0.3->langchain-unstructured) (24.1)\n",
      "Requirement already satisfied: pydantic<3.0.0,>=2.5.2 in c:\\users\\817840\\appdata\\local\\programs\\python\\python311\\lib\\site-packages (from langchain-core<0.4,>=0.3->langchain-unstructured) (2.9.2)\n",
      "Requirement already satisfied: tenacity!=8.4.0,<10.0.0,>=8.1.0 in c:\\users\\817840\\appdata\\local\\programs\\python\\python311\\lib\\site-packages (from langchain-core<0.4,>=0.3->langchain-unstructured) (9.0.0)\n",
      "Requirement already satisfied: typing-extensions>=4.7 in c:\\users\\817840\\appdata\\roaming\\python\\python311\\site-packages (from langchain-core<0.4,>=0.3->langchain-unstructured) (4.12.2)\n",
      "Requirement already satisfied: certifi>=2023.7.22 in c:\\users\\817840\\appdata\\local\\programs\\python\\python311\\lib\\site-packages (from unstructured-client<0.26.0,>=0.25.0->langchain-unstructured) (2024.8.30)\n",
      "Requirement already satisfied: charset-normalizer>=3.2.0 in c:\\users\\817840\\appdata\\local\\programs\\python\\python311\\lib\\site-packages (from unstructured-client<0.26.0,>=0.25.0->langchain-unstructured) (3.3.2)\n",
      "Requirement already satisfied: cryptography>=3.1 in c:\\users\\817840\\appdata\\local\\programs\\python\\python311\\lib\\site-packages (from unstructured-client<0.26.0,>=0.25.0->langchain-unstructured) (43.0.3)\n",
      "Requirement already satisfied: dataclasses-json>=0.6.4 in c:\\users\\817840\\appdata\\local\\programs\\python\\python311\\lib\\site-packages (from unstructured-client<0.26.0,>=0.25.0->langchain-unstructured) (0.6.7)\n",
      "Collecting deepdiff>=6.0 (from unstructured-client<0.26.0,>=0.25.0->langchain-unstructured)\n",
      "  Downloading deepdiff-8.0.1-py3-none-any.whl.metadata (8.5 kB)\n",
      "Requirement already satisfied: httpx>=0.27.0 in c:\\users\\817840\\appdata\\local\\programs\\python\\python311\\lib\\site-packages (from unstructured-client<0.26.0,>=0.25.0->langchain-unstructured) (0.27.2)\n",
      "Requirement already satisfied: idna>=3.4 in c:\\users\\817840\\appdata\\local\\programs\\python\\python311\\lib\\site-packages (from unstructured-client<0.26.0,>=0.25.0->langchain-unstructured) (3.10)\n",
      "Requirement already satisfied: jsonpath-python>=1.0.6 in c:\\users\\817840\\appdata\\local\\programs\\python\\python311\\lib\\site-packages (from unstructured-client<0.26.0,>=0.25.0->langchain-unstructured) (1.0.6)\n",
      "Requirement already satisfied: marshmallow>=3.19.0 in c:\\users\\817840\\appdata\\local\\programs\\python\\python311\\lib\\site-packages (from unstructured-client<0.26.0,>=0.25.0->langchain-unstructured) (3.23.0)\n",
      "Requirement already satisfied: mypy-extensions>=1.0.0 in c:\\users\\817840\\appdata\\local\\programs\\python\\python311\\lib\\site-packages (from unstructured-client<0.26.0,>=0.25.0->langchain-unstructured) (1.0.0)\n",
      "Requirement already satisfied: nest-asyncio>=1.6.0 in c:\\users\\817840\\appdata\\roaming\\python\\python311\\site-packages (from unstructured-client<0.26.0,>=0.25.0->langchain-unstructured) (1.6.0)\n",
      "Requirement already satisfied: pypdf>=4.0 in c:\\users\\817840\\appdata\\local\\programs\\python\\python311\\lib\\site-packages (from unstructured-client<0.26.0,>=0.25.0->langchain-unstructured) (5.0.1)\n",
      "Requirement already satisfied: python-dateutil>=2.8.2 in c:\\users\\817840\\appdata\\local\\programs\\python\\python311\\lib\\site-packages (from unstructured-client<0.26.0,>=0.25.0->langchain-unstructured) (2.8.2)\n",
      "Requirement already satisfied: requests>=2.31.0 in c:\\users\\817840\\appdata\\local\\programs\\python\\python311\\lib\\site-packages (from unstructured-client<0.26.0,>=0.25.0->langchain-unstructured) (2.32.3)\n",
      "Requirement already satisfied: requests-toolbelt>=1.0.0 in c:\\users\\817840\\appdata\\local\\programs\\python\\python311\\lib\\site-packages (from unstructured-client<0.26.0,>=0.25.0->langchain-unstructured) (1.0.0)\n",
      "Requirement already satisfied: six>=1.16.0 in c:\\users\\817840\\appdata\\roaming\\python\\python311\\site-packages (from unstructured-client<0.26.0,>=0.25.0->langchain-unstructured) (1.16.0)\n",
      "Requirement already satisfied: typing-inspect>=0.9.0 in c:\\users\\817840\\appdata\\local\\programs\\python\\python311\\lib\\site-packages (from unstructured-client<0.26.0,>=0.25.0->langchain-unstructured) (0.9.0)\n",
      "Requirement already satisfied: urllib3>=1.26.18 in c:\\users\\817840\\appdata\\local\\programs\\python\\python311\\lib\\site-packages (from unstructured-client<0.26.0,>=0.25.0->langchain-unstructured) (2.2.3)\n",
      "Requirement already satisfied: cffi>=1.12 in c:\\users\\817840\\appdata\\local\\programs\\python\\python311\\lib\\site-packages (from cryptography>=3.1->unstructured-client<0.26.0,>=0.25.0->langchain-unstructured) (1.17.1)\n",
      "Collecting orderly-set==5.2.2 (from deepdiff>=6.0->unstructured-client<0.26.0,>=0.25.0->langchain-unstructured)\n",
      "  Downloading orderly_set-5.2.2-py3-none-any.whl.metadata (6.3 kB)\n",
      "Requirement already satisfied: anyio in c:\\users\\817840\\appdata\\local\\programs\\python\\python311\\lib\\site-packages (from httpx>=0.27.0->unstructured-client<0.26.0,>=0.25.0->langchain-unstructured) (4.6.2.post1)\n",
      "Requirement already satisfied: httpcore==1.* in c:\\users\\817840\\appdata\\local\\programs\\python\\python311\\lib\\site-packages (from httpx>=0.27.0->unstructured-client<0.26.0,>=0.25.0->langchain-unstructured) (1.0.6)\n",
      "Requirement already satisfied: sniffio in c:\\users\\817840\\appdata\\local\\programs\\python\\python311\\lib\\site-packages (from httpx>=0.27.0->unstructured-client<0.26.0,>=0.25.0->langchain-unstructured) (1.3.1)\n",
      "Requirement already satisfied: h11<0.15,>=0.13 in c:\\users\\817840\\appdata\\local\\programs\\python\\python311\\lib\\site-packages (from httpcore==1.*->httpx>=0.27.0->unstructured-client<0.26.0,>=0.25.0->langchain-unstructured) (0.14.0)\n",
      "Requirement already satisfied: jsonpointer>=1.9 in c:\\users\\817840\\appdata\\local\\programs\\python\\python311\\lib\\site-packages (from jsonpatch<2.0,>=1.33->langchain-core<0.4,>=0.3->langchain-unstructured) (3.0.0)\n",
      "Requirement already satisfied: orjson<4.0.0,>=3.9.14 in c:\\users\\817840\\appdata\\local\\programs\\python\\python311\\lib\\site-packages (from langsmith<0.2.0,>=0.1.125->langchain-core<0.4,>=0.3->langchain-unstructured) (3.10.9)\n",
      "Requirement already satisfied: annotated-types>=0.6.0 in c:\\users\\817840\\appdata\\local\\programs\\python\\python311\\lib\\site-packages (from pydantic<3.0.0,>=2.5.2->langchain-core<0.4,>=0.3->langchain-unstructured) (0.7.0)\n",
      "Requirement already satisfied: pydantic-core==2.23.4 in c:\\users\\817840\\appdata\\local\\programs\\python\\python311\\lib\\site-packages (from pydantic<3.0.0,>=2.5.2->langchain-core<0.4,>=0.3->langchain-unstructured) (2.23.4)\n",
      "Requirement already satisfied: pycparser in c:\\users\\817840\\appdata\\local\\programs\\python\\python311\\lib\\site-packages (from cffi>=1.12->cryptography>=3.1->unstructured-client<0.26.0,>=0.25.0->langchain-unstructured) (2.22)\n",
      "Downloading langchain_unstructured-0.1.5-py3-none-any.whl (7.0 kB)\n",
      "Downloading unstructured_client-0.25.9-py3-none-any.whl (45 kB)\n",
      "Downloading deepdiff-8.0.1-py3-none-any.whl (82 kB)\n",
      "Downloading orderly_set-5.2.2-py3-none-any.whl (11 kB)\n",
      "Installing collected packages: orderly-set, deepdiff, unstructured-client, langchain-unstructured\n",
      "  Attempting uninstall: unstructured-client\n",
      "    Found existing installation: unstructured-client 0.26.1\n",
      "    Uninstalling unstructured-client-0.26.1:\n",
      "      Successfully uninstalled unstructured-client-0.26.1\n",
      "Successfully installed deepdiff-8.0.1 langchain-unstructured-0.1.5 orderly-set-5.2.2 unstructured-client-0.25.9\n",
      "Note: you may need to restart the kernel to use updated packages.\n"
     ]
    }
   ],
   "source": [
    "pip install langchain-unstructured"
   ]
  },
  {
   "cell_type": "code",
   "execution_count": 5,
   "metadata": {},
   "outputs": [],
   "source": [
    "from langchain_unstructured import UnstructuredLoader"
   ]
  },
  {
   "cell_type": "code",
   "execution_count": 13,
   "metadata": {},
   "outputs": [
    {
     "name": "stdout",
     "output_type": "stream",
     "text": [
      "Requirement already satisfied: pillow in c:\\users\\817840\\appdata\\local\\programs\\python\\python311\\lib\\site-packages (11.0.0)\n",
      "Collecting pi-heif\n",
      "  Downloading pi_heif-0.20.0-cp311-cp311-win_amd64.whl.metadata (6.7 kB)\n",
      "Requirement already satisfied: urllib3 in c:\\users\\817840\\appdata\\local\\programs\\python\\python311\\lib\\site-packages (2.2.3)\n",
      "Downloading pi_heif-0.20.0-cp311-cp311-win_amd64.whl (1.7 MB)\n",
      "   ---------------------------------------- 0.0/1.7 MB ? eta -:--:--\n",
      "   ---------------------------------------- 1.7/1.7 MB 9.0 MB/s eta 0:00:00\n",
      "Installing collected packages: pi-heif\n",
      "Successfully installed pi-heif-0.20.0\n",
      "Note: you may need to restart the kernel to use updated packages.\n"
     ]
    }
   ],
   "source": [
    "pip install pillow pi-heif urllib3"
   ]
  },
  {
   "cell_type": "code",
   "execution_count": 7,
   "metadata": {},
   "outputs": [],
   "source": [
    "from langchain_unstructured import UnstructuredLoader"
   ]
  },
  {
   "cell_type": "code",
   "execution_count": 6,
   "metadata": {},
   "outputs": [
    {
     "name": "stderr",
     "output_type": "stream",
     "text": [
      "C:\\Users\\817840\\AppData\\Local\\Temp\\ipykernel_13960\\1492333887.py:21: LangChainDeprecationWarning: The class `UnstructuredFileLoader` was deprecated in LangChain 0.2.8 and will be removed in 1.0. An updated version of the class exists in the :class:`~langchain-unstructured package and should be used instead. To use it run `pip install -U :class:`~langchain-unstructured` and import as `from :class:`~langchain_unstructured import UnstructuredLoader``.\n",
      "  loader = UnstructuredFileLoader(file_path)\n",
      "c:\\Users\\817840\\AppData\\Local\\Programs\\Python\\Python311\\Lib\\site-packages\\tqdm\\auto.py:21: TqdmWarning: IProgress not found. Please update jupyter and ipywidgets. See https://ipywidgets.readthedocs.io/en/stable/user_install.html\n",
      "  from .autonotebook import tqdm as notebook_tqdm\n",
      "Matplotlib is building the font cache; this may take a moment.\n",
      "C:\\Users\\817840\\AppData\\Local\\Temp\\ipykernel_13960\\1492333887.py:106: LangChainDeprecationWarning: The class `LLMChain` was deprecated in LangChain 0.1.17 and will be removed in 1.0. Use :meth:`~RunnableSequence, e.g., `prompt | llm`` instead.\n",
      "  \"summary\": LLMChain(\n",
      "C:\\Users\\817840\\AppData\\Local\\Temp\\ipykernel_13960\\1492333887.py:148: LangChainDeprecationWarning: The method `Chain.__call__` was deprecated in langchain 0.1.0 and will be removed in 1.0. Use :meth:`~invoke` instead.\n",
      "  result = chain({\"content\": content,\n"
     ]
    },
    {
     "name": "stdout",
     "output_type": "stream",
     "text": [
      "\n",
      "Total Tokens Used: 19539\n",
      "Total Cost (USD): $0.06045299999999999\n"
     ]
    }
   ],
   "source": [
    "# Analyze document\n",
    "result = analyzer.analyze_pdd(\n",
    "    file_path=r\"C:\\Users\\817840\\OneDrive - Cognizant\\Documents\\GitHub\\ML-AI\\Codes\\Projects&POC\\PGE - Self service chatbot\\MRBR followups _Sweden_ PDD_V1.pdf\",\n",
    "    technology=\"Blue Brism\",\n",
    "    skill_level=\"intermediate\"\n",
    ")"
   ]
  },
  {
   "cell_type": "code",
   "execution_count": null,
   "metadata": {},
   "outputs": [],
   "source": [
    "\n",
    "\n",
    "# Access results\n",
    "print(\"Summary:\", result[\"summary\"])\n",
    "print(\"\\nSteps:\", result[\"steps\"])\n",
    "print(\"\\nTechnical Solution:\", result[\"solution\"])\n",
    "print(\"\\nTime Estimation:\", result[\"time_estimate\"])\n",
    "print(\"\\nCost Estimation:\", result[\"cost_estimate\"])"
   ]
  },
  {
   "cell_type": "code",
   "execution_count": 12,
   "metadata": {},
   "outputs": [
    {
     "name": "stdout",
     "output_type": "stream",
     "text": [
      "Collecting python-magic-bin\n",
      "  Downloading python_magic_bin-0.4.14-py2.py3-none-win_amd64.whl.metadata (710 bytes)\n",
      "Downloading python_magic_bin-0.4.14-py2.py3-none-win_amd64.whl (409 kB)\n",
      "Installing collected packages: python-magic-bin\n",
      "Successfully installed python-magic-bin-0.4.14\n",
      "Note: you may need to restart the kernel to use updated packages.\n"
     ]
    }
   ],
   "source": [
    "pip install python-magic-bin"
   ]
  },
  {
   "cell_type": "code",
   "execution_count": 14,
   "metadata": {},
   "outputs": [
    {
     "name": "stdout",
     "output_type": "stream",
     "text": [
      "Requirement already satisfied: langchain in c:\\users\\817840\\appdata\\local\\programs\\python\\python311\\lib\\site-packages (0.3.4)\n",
      "Requirement already satisfied: PyYAML>=5.3 in c:\\users\\817840\\appdata\\local\\programs\\python\\python311\\lib\\site-packages (from langchain) (6.0.2)\n",
      "Requirement already satisfied: SQLAlchemy<3,>=1.4 in c:\\users\\817840\\appdata\\local\\programs\\python\\python311\\lib\\site-packages (from langchain) (2.0.36)\n",
      "Requirement already satisfied: aiohttp<4.0.0,>=3.8.3 in c:\\users\\817840\\appdata\\local\\programs\\python\\python311\\lib\\site-packages (from langchain) (3.10.10)\n",
      "Requirement already satisfied: langchain-core<0.4.0,>=0.3.12 in c:\\users\\817840\\appdata\\local\\programs\\python\\python311\\lib\\site-packages (from langchain) (0.3.12)\n",
      "Requirement already satisfied: langchain-text-splitters<0.4.0,>=0.3.0 in c:\\users\\817840\\appdata\\local\\programs\\python\\python311\\lib\\site-packages (from langchain) (0.3.0)\n",
      "Requirement already satisfied: langsmith<0.2.0,>=0.1.17 in c:\\users\\817840\\appdata\\local\\programs\\python\\python311\\lib\\site-packages (from langchain) (0.1.136)\n",
      "Requirement already satisfied: numpy<2,>=1 in c:\\users\\817840\\appdata\\local\\programs\\python\\python311\\lib\\site-packages (from langchain) (1.26.4)\n",
      "Requirement already satisfied: pydantic<3.0.0,>=2.7.4 in c:\\users\\817840\\appdata\\local\\programs\\python\\python311\\lib\\site-packages (from langchain) (2.9.2)\n",
      "Requirement already satisfied: requests<3,>=2 in c:\\users\\817840\\appdata\\local\\programs\\python\\python311\\lib\\site-packages (from langchain) (2.32.3)\n",
      "Requirement already satisfied: tenacity!=8.4.0,<10,>=8.1.0 in c:\\users\\817840\\appdata\\local\\programs\\python\\python311\\lib\\site-packages (from langchain) (9.0.0)\n",
      "Requirement already satisfied: aiohappyeyeballs>=2.3.0 in c:\\users\\817840\\appdata\\local\\programs\\python\\python311\\lib\\site-packages (from aiohttp<4.0.0,>=3.8.3->langchain) (2.4.3)\n",
      "Requirement already satisfied: aiosignal>=1.1.2 in c:\\users\\817840\\appdata\\local\\programs\\python\\python311\\lib\\site-packages (from aiohttp<4.0.0,>=3.8.3->langchain) (1.3.1)\n",
      "Requirement already satisfied: attrs>=17.3.0 in c:\\users\\817840\\appdata\\local\\programs\\python\\python311\\lib\\site-packages (from aiohttp<4.0.0,>=3.8.3->langchain) (24.2.0)\n",
      "Requirement already satisfied: frozenlist>=1.1.1 in c:\\users\\817840\\appdata\\local\\programs\\python\\python311\\lib\\site-packages (from aiohttp<4.0.0,>=3.8.3->langchain) (1.4.1)\n",
      "Requirement already satisfied: multidict<7.0,>=4.5 in c:\\users\\817840\\appdata\\local\\programs\\python\\python311\\lib\\site-packages (from aiohttp<4.0.0,>=3.8.3->langchain) (6.1.0)\n",
      "Requirement already satisfied: yarl<2.0,>=1.12.0 in c:\\users\\817840\\appdata\\local\\programs\\python\\python311\\lib\\site-packages (from aiohttp<4.0.0,>=3.8.3->langchain) (1.16.0)\n",
      "Requirement already satisfied: jsonpatch<2.0,>=1.33 in c:\\users\\817840\\appdata\\local\\programs\\python\\python311\\lib\\site-packages (from langchain-core<0.4.0,>=0.3.12->langchain) (1.33)\n",
      "Requirement already satisfied: packaging<25,>=23.2 in c:\\users\\817840\\appdata\\roaming\\python\\python311\\site-packages (from langchain-core<0.4.0,>=0.3.12->langchain) (24.1)\n",
      "Requirement already satisfied: typing-extensions>=4.7 in c:\\users\\817840\\appdata\\roaming\\python\\python311\\site-packages (from langchain-core<0.4.0,>=0.3.12->langchain) (4.12.2)\n",
      "Requirement already satisfied: httpx<1,>=0.23.0 in c:\\users\\817840\\appdata\\local\\programs\\python\\python311\\lib\\site-packages (from langsmith<0.2.0,>=0.1.17->langchain) (0.27.2)\n",
      "Requirement already satisfied: orjson<4.0.0,>=3.9.14 in c:\\users\\817840\\appdata\\local\\programs\\python\\python311\\lib\\site-packages (from langsmith<0.2.0,>=0.1.17->langchain) (3.10.9)\n",
      "Requirement already satisfied: requests-toolbelt<2.0.0,>=1.0.0 in c:\\users\\817840\\appdata\\local\\programs\\python\\python311\\lib\\site-packages (from langsmith<0.2.0,>=0.1.17->langchain) (1.0.0)\n",
      "Requirement already satisfied: annotated-types>=0.6.0 in c:\\users\\817840\\appdata\\local\\programs\\python\\python311\\lib\\site-packages (from pydantic<3.0.0,>=2.7.4->langchain) (0.7.0)\n",
      "Requirement already satisfied: pydantic-core==2.23.4 in c:\\users\\817840\\appdata\\local\\programs\\python\\python311\\lib\\site-packages (from pydantic<3.0.0,>=2.7.4->langchain) (2.23.4)\n",
      "Requirement already satisfied: charset-normalizer<4,>=2 in c:\\users\\817840\\appdata\\local\\programs\\python\\python311\\lib\\site-packages (from requests<3,>=2->langchain) (3.3.2)\n",
      "Requirement already satisfied: idna<4,>=2.5 in c:\\users\\817840\\appdata\\local\\programs\\python\\python311\\lib\\site-packages (from requests<3,>=2->langchain) (3.10)\n",
      "Requirement already satisfied: urllib3<3,>=1.21.1 in c:\\users\\817840\\appdata\\local\\programs\\python\\python311\\lib\\site-packages (from requests<3,>=2->langchain) (2.2.3)\n",
      "Requirement already satisfied: certifi>=2017.4.17 in c:\\users\\817840\\appdata\\local\\programs\\python\\python311\\lib\\site-packages (from requests<3,>=2->langchain) (2024.8.30)\n",
      "Requirement already satisfied: greenlet!=0.4.17 in c:\\users\\817840\\appdata\\local\\programs\\python\\python311\\lib\\site-packages (from SQLAlchemy<3,>=1.4->langchain) (3.1.1)\n",
      "Requirement already satisfied: anyio in c:\\users\\817840\\appdata\\local\\programs\\python\\python311\\lib\\site-packages (from httpx<1,>=0.23.0->langsmith<0.2.0,>=0.1.17->langchain) (4.6.2.post1)\n",
      "Requirement already satisfied: httpcore==1.* in c:\\users\\817840\\appdata\\local\\programs\\python\\python311\\lib\\site-packages (from httpx<1,>=0.23.0->langsmith<0.2.0,>=0.1.17->langchain) (1.0.6)\n",
      "Requirement already satisfied: sniffio in c:\\users\\817840\\appdata\\local\\programs\\python\\python311\\lib\\site-packages (from httpx<1,>=0.23.0->langsmith<0.2.0,>=0.1.17->langchain) (1.3.1)\n",
      "Requirement already satisfied: h11<0.15,>=0.13 in c:\\users\\817840\\appdata\\local\\programs\\python\\python311\\lib\\site-packages (from httpcore==1.*->httpx<1,>=0.23.0->langsmith<0.2.0,>=0.1.17->langchain) (0.14.0)\n",
      "Requirement already satisfied: jsonpointer>=1.9 in c:\\users\\817840\\appdata\\local\\programs\\python\\python311\\lib\\site-packages (from jsonpatch<2.0,>=1.33->langchain-core<0.4.0,>=0.3.12->langchain) (3.0.0)\n",
      "Requirement already satisfied: propcache>=0.2.0 in c:\\users\\817840\\appdata\\local\\programs\\python\\python311\\lib\\site-packages (from yarl<2.0,>=1.12.0->aiohttp<4.0.0,>=3.8.3->langchain) (0.2.0)\n",
      "Note: you may need to restart the kernel to use updated packages.\n"
     ]
    }
   ],
   "source": [
    "pip install langchain"
   ]
  },
  {
   "cell_type": "code",
   "execution_count": 16,
   "metadata": {},
   "outputs": [
    {
     "name": "stdout",
     "output_type": "stream",
     "text": [
      "Requirement already satisfied: python-dotenv in c:\\users\\817840\\appdata\\local\\programs\\python\\python311\\lib\\site-packages (1.0.1)\n",
      "Note: you may need to restart the kernel to use updated packages.\n"
     ]
    }
   ],
   "source": [
    "pip install python-dotenv\n"
   ]
  },
  {
   "cell_type": "code",
   "execution_count": 17,
   "metadata": {},
   "outputs": [
    {
     "name": "stdout",
     "output_type": "stream",
     "text": [
      "Requirement already satisfied: unstructured in c:\\users\\817840\\appdata\\local\\programs\\python\\python311\\lib\\site-packages (0.16.0)\n",
      "Requirement already satisfied: chardet in c:\\users\\817840\\appdata\\local\\programs\\python\\python311\\lib\\site-packages (from unstructured) (5.2.0)\n",
      "Requirement already satisfied: filetype in c:\\users\\817840\\appdata\\local\\programs\\python\\python311\\lib\\site-packages (from unstructured) (1.2.0)\n",
      "Requirement already satisfied: python-magic in c:\\users\\817840\\appdata\\local\\programs\\python\\python311\\lib\\site-packages (from unstructured) (0.4.27)\n",
      "Requirement already satisfied: lxml in c:\\users\\817840\\appdata\\local\\programs\\python\\python311\\lib\\site-packages (from unstructured) (5.3.0)\n",
      "Requirement already satisfied: nltk in c:\\users\\817840\\appdata\\local\\programs\\python\\python311\\lib\\site-packages (from unstructured) (3.9.1)\n",
      "Requirement already satisfied: tabulate in c:\\users\\817840\\appdata\\local\\programs\\python\\python311\\lib\\site-packages (from unstructured) (0.9.0)\n",
      "Requirement already satisfied: requests in c:\\users\\817840\\appdata\\local\\programs\\python\\python311\\lib\\site-packages (from unstructured) (2.32.3)\n",
      "Requirement already satisfied: beautifulsoup4 in c:\\users\\817840\\appdata\\local\\programs\\python\\python311\\lib\\site-packages (from unstructured) (4.12.3)\n",
      "Requirement already satisfied: emoji in c:\\users\\817840\\appdata\\local\\programs\\python\\python311\\lib\\site-packages (from unstructured) (2.14.0)\n",
      "Requirement already satisfied: dataclasses-json in c:\\users\\817840\\appdata\\local\\programs\\python\\python311\\lib\\site-packages (from unstructured) (0.6.7)\n",
      "Requirement already satisfied: python-iso639 in c:\\users\\817840\\appdata\\local\\programs\\python\\python311\\lib\\site-packages (from unstructured) (2024.10.22)\n",
      "Requirement already satisfied: langdetect in c:\\users\\817840\\appdata\\local\\programs\\python\\python311\\lib\\site-packages (from unstructured) (1.0.9)\n",
      "Requirement already satisfied: numpy<2 in c:\\users\\817840\\appdata\\local\\programs\\python\\python311\\lib\\site-packages (from unstructured) (1.26.4)\n",
      "Requirement already satisfied: rapidfuzz in c:\\users\\817840\\appdata\\local\\programs\\python\\python311\\lib\\site-packages (from unstructured) (3.10.0)\n",
      "Requirement already satisfied: backoff in c:\\users\\817840\\appdata\\local\\programs\\python\\python311\\lib\\site-packages (from unstructured) (2.2.1)\n",
      "Requirement already satisfied: typing-extensions in c:\\users\\817840\\appdata\\roaming\\python\\python311\\site-packages (from unstructured) (4.12.2)\n",
      "Requirement already satisfied: unstructured-client in c:\\users\\817840\\appdata\\local\\programs\\python\\python311\\lib\\site-packages (from unstructured) (0.26.1)\n",
      "Requirement already satisfied: wrapt in c:\\users\\817840\\appdata\\local\\programs\\python\\python311\\lib\\site-packages (from unstructured) (1.16.0)\n",
      "Requirement already satisfied: tqdm in c:\\users\\817840\\appdata\\local\\programs\\python\\python311\\lib\\site-packages (from unstructured) (4.66.5)\n",
      "Requirement already satisfied: psutil in c:\\users\\817840\\appdata\\roaming\\python\\python311\\site-packages (from unstructured) (6.0.0)\n",
      "Requirement already satisfied: python-oxmsg in c:\\users\\817840\\appdata\\local\\programs\\python\\python311\\lib\\site-packages (from unstructured) (0.0.1)\n",
      "Requirement already satisfied: soupsieve>1.2 in c:\\users\\817840\\appdata\\local\\programs\\python\\python311\\lib\\site-packages (from beautifulsoup4->unstructured) (2.6)\n",
      "Requirement already satisfied: marshmallow<4.0.0,>=3.18.0 in c:\\users\\817840\\appdata\\local\\programs\\python\\python311\\lib\\site-packages (from dataclasses-json->unstructured) (3.23.0)\n",
      "Requirement already satisfied: typing-inspect<1,>=0.4.0 in c:\\users\\817840\\appdata\\local\\programs\\python\\python311\\lib\\site-packages (from dataclasses-json->unstructured) (0.9.0)\n",
      "Requirement already satisfied: six in c:\\users\\817840\\appdata\\roaming\\python\\python311\\site-packages (from langdetect->unstructured) (1.16.0)\n",
      "Requirement already satisfied: click in c:\\users\\817840\\appdata\\local\\programs\\python\\python311\\lib\\site-packages (from nltk->unstructured) (8.1.7)\n",
      "Requirement already satisfied: joblib in c:\\users\\817840\\appdata\\local\\programs\\python\\python311\\lib\\site-packages (from nltk->unstructured) (1.4.2)\n",
      "Requirement already satisfied: regex>=2021.8.3 in c:\\users\\817840\\appdata\\local\\programs\\python\\python311\\lib\\site-packages (from nltk->unstructured) (2024.9.11)\n",
      "Requirement already satisfied: olefile in c:\\users\\817840\\appdata\\local\\programs\\python\\python311\\lib\\site-packages (from python-oxmsg->unstructured) (0.47)\n",
      "Requirement already satisfied: charset-normalizer<4,>=2 in c:\\users\\817840\\appdata\\local\\programs\\python\\python311\\lib\\site-packages (from requests->unstructured) (3.3.2)\n",
      "Requirement already satisfied: idna<4,>=2.5 in c:\\users\\817840\\appdata\\local\\programs\\python\\python311\\lib\\site-packages (from requests->unstructured) (3.10)\n",
      "Requirement already satisfied: urllib3<3,>=1.21.1 in c:\\users\\817840\\appdata\\local\\programs\\python\\python311\\lib\\site-packages (from requests->unstructured) (2.2.3)\n",
      "Requirement already satisfied: certifi>=2017.4.17 in c:\\users\\817840\\appdata\\local\\programs\\python\\python311\\lib\\site-packages (from requests->unstructured) (2024.8.30)\n",
      "Requirement already satisfied: colorama in c:\\users\\817840\\appdata\\roaming\\python\\python311\\site-packages (from tqdm->unstructured) (0.4.6)\n",
      "Requirement already satisfied: cryptography>=3.1 in c:\\users\\817840\\appdata\\local\\programs\\python\\python311\\lib\\site-packages (from unstructured-client->unstructured) (43.0.3)\n",
      "Requirement already satisfied: eval-type-backport<0.3.0,>=0.2.0 in c:\\users\\817840\\appdata\\local\\programs\\python\\python311\\lib\\site-packages (from unstructured-client->unstructured) (0.2.0)\n",
      "Requirement already satisfied: httpx>=0.27.0 in c:\\users\\817840\\appdata\\local\\programs\\python\\python311\\lib\\site-packages (from unstructured-client->unstructured) (0.27.2)\n",
      "Requirement already satisfied: jsonpath-python<2.0.0,>=1.0.6 in c:\\users\\817840\\appdata\\local\\programs\\python\\python311\\lib\\site-packages (from unstructured-client->unstructured) (1.0.6)\n",
      "Requirement already satisfied: nest-asyncio>=1.6.0 in c:\\users\\817840\\appdata\\roaming\\python\\python311\\site-packages (from unstructured-client->unstructured) (1.6.0)\n",
      "Requirement already satisfied: pydantic<2.10.0,>=2.9.0 in c:\\users\\817840\\appdata\\local\\programs\\python\\python311\\lib\\site-packages (from unstructured-client->unstructured) (2.9.2)\n",
      "Requirement already satisfied: pypdf>=4.0 in c:\\users\\817840\\appdata\\local\\programs\\python\\python311\\lib\\site-packages (from unstructured-client->unstructured) (5.0.1)\n",
      "Requirement already satisfied: python-dateutil==2.8.2 in c:\\users\\817840\\appdata\\local\\programs\\python\\python311\\lib\\site-packages (from unstructured-client->unstructured) (2.8.2)\n",
      "Requirement already satisfied: requests-toolbelt>=1.0.0 in c:\\users\\817840\\appdata\\local\\programs\\python\\python311\\lib\\site-packages (from unstructured-client->unstructured) (1.0.0)\n",
      "Requirement already satisfied: cffi>=1.12 in c:\\users\\817840\\appdata\\local\\programs\\python\\python311\\lib\\site-packages (from cryptography>=3.1->unstructured-client->unstructured) (1.17.1)\n",
      "Requirement already satisfied: anyio in c:\\users\\817840\\appdata\\local\\programs\\python\\python311\\lib\\site-packages (from httpx>=0.27.0->unstructured-client->unstructured) (4.6.2.post1)\n",
      "Requirement already satisfied: httpcore==1.* in c:\\users\\817840\\appdata\\local\\programs\\python\\python311\\lib\\site-packages (from httpx>=0.27.0->unstructured-client->unstructured) (1.0.6)\n",
      "Requirement already satisfied: sniffio in c:\\users\\817840\\appdata\\local\\programs\\python\\python311\\lib\\site-packages (from httpx>=0.27.0->unstructured-client->unstructured) (1.3.1)\n",
      "Requirement already satisfied: h11<0.15,>=0.13 in c:\\users\\817840\\appdata\\local\\programs\\python\\python311\\lib\\site-packages (from httpcore==1.*->httpx>=0.27.0->unstructured-client->unstructured) (0.14.0)\n",
      "Requirement already satisfied: packaging>=17.0 in c:\\users\\817840\\appdata\\roaming\\python\\python311\\site-packages (from marshmallow<4.0.0,>=3.18.0->dataclasses-json->unstructured) (24.1)\n",
      "Requirement already satisfied: annotated-types>=0.6.0 in c:\\users\\817840\\appdata\\local\\programs\\python\\python311\\lib\\site-packages (from pydantic<2.10.0,>=2.9.0->unstructured-client->unstructured) (0.7.0)\n",
      "Requirement already satisfied: pydantic-core==2.23.4 in c:\\users\\817840\\appdata\\local\\programs\\python\\python311\\lib\\site-packages (from pydantic<2.10.0,>=2.9.0->unstructured-client->unstructured) (2.23.4)\n",
      "Requirement already satisfied: mypy-extensions>=0.3.0 in c:\\users\\817840\\appdata\\local\\programs\\python\\python311\\lib\\site-packages (from typing-inspect<1,>=0.4.0->dataclasses-json->unstructured) (1.0.0)\n",
      "Requirement already satisfied: pycparser in c:\\users\\817840\\appdata\\local\\programs\\python\\python311\\lib\\site-packages (from cffi>=1.12->cryptography>=3.1->unstructured-client->unstructured) (2.22)\n",
      "Note: you may need to restart the kernel to use updated packages.\n"
     ]
    }
   ],
   "source": [
    "pip install unstructured\n"
   ]
  },
  {
   "cell_type": "code",
   "execution_count": 18,
   "metadata": {},
   "outputs": [
    {
     "name": "stdout",
     "output_type": "stream",
     "text": [
      "Note: you may need to restart the kernel to use updated packages.\n"
     ]
    },
    {
     "name": "stderr",
     "output_type": "stream",
     "text": [
      "ERROR: Could not find a version that satisfies the requirement azure-openai (from versions: none)\n",
      "ERROR: No matching distribution found for azure-openai\n"
     ]
    }
   ],
   "source": [
    "pip install azure-openai\n"
   ]
  },
  {
   "cell_type": "code",
   "execution_count": 19,
   "metadata": {},
   "outputs": [
    {
     "name": "stdout",
     "output_type": "stream",
     "text": [
      "Note: you may need to restart the kernel to use updated packages.\n"
     ]
    },
    {
     "name": "stderr",
     "output_type": "stream",
     "text": [
      "ERROR: Invalid requirement: '#': Expected package name at the start of dependency specifier\n",
      "    #\n",
      "    ^\n"
     ]
    }
   ],
   "source": [
    "pip install python-magic-bin  # for Windows\n"
   ]
  },
  {
   "cell_type": "code",
   "execution_count": 20,
   "metadata": {},
   "outputs": [
    {
     "name": "stdout",
     "output_type": "stream",
     "text": [
      "Collecting pdf2image\n",
      "  Downloading pdf2image-1.17.0-py3-none-any.whl.metadata (6.2 kB)\n",
      "Requirement already satisfied: pillow in c:\\users\\817840\\appdata\\local\\programs\\python\\python311\\lib\\site-packages (from pdf2image) (11.0.0)\n",
      "Downloading pdf2image-1.17.0-py3-none-any.whl (11 kB)\n",
      "Installing collected packages: pdf2image\n",
      "Successfully installed pdf2image-1.17.0\n",
      "Note: you may need to restart the kernel to use updated packages.\n"
     ]
    }
   ],
   "source": [
    "pip install pdf2image\n"
   ]
  },
  {
   "cell_type": "code",
   "execution_count": 21,
   "metadata": {},
   "outputs": [
    {
     "name": "stdout",
     "output_type": "stream",
     "text": [
      "Collecting pytesseract\n",
      "  Downloading pytesseract-0.3.13-py3-none-any.whl.metadata (11 kB)\n",
      "Requirement already satisfied: packaging>=21.3 in c:\\users\\817840\\appdata\\roaming\\python\\python311\\site-packages (from pytesseract) (24.1)\n",
      "Requirement already satisfied: Pillow>=8.0.0 in c:\\users\\817840\\appdata\\local\\programs\\python\\python311\\lib\\site-packages (from pytesseract) (11.0.0)\n",
      "Downloading pytesseract-0.3.13-py3-none-any.whl (14 kB)\n",
      "Installing collected packages: pytesseract\n",
      "Successfully installed pytesseract-0.3.13\n",
      "Note: you may need to restart the kernel to use updated packages.\n"
     ]
    }
   ],
   "source": [
    "pip install pytesseract\n"
   ]
  },
  {
   "cell_type": "code",
   "execution_count": 22,
   "metadata": {},
   "outputs": [
    {
     "name": "stdout",
     "output_type": "stream",
     "text": [
      "Requirement already satisfied: pypdf in c:\\users\\817840\\appdata\\local\\programs\\python\\python311\\lib\\site-packages (5.0.1)\n",
      "Note: you may need to restart the kernel to use updated packages.\n"
     ]
    }
   ],
   "source": [
    "pip install pypdf\n"
   ]
  },
  {
   "cell_type": "code",
   "execution_count": 23,
   "metadata": {},
   "outputs": [
    {
     "name": "stdout",
     "output_type": "stream",
     "text": [
      "Requirement already satisfied: docx2txt in c:\\users\\817840\\appdata\\local\\programs\\python\\python311\\lib\\site-packages (0.8)\n",
      "Note: you may need to restart the kernel to use updated packages.\n"
     ]
    }
   ],
   "source": [
    "pip install docx2txt"
   ]
  },
  {
   "cell_type": "code",
   "execution_count": 10,
   "metadata": {},
   "outputs": [],
   "source": [
    "pip install \"unstructured[all-docs]\"\n"
   ]
  },
  {
   "cell_type": "code",
   "execution_count": null,
   "metadata": {},
   "outputs": [],
   "source": [
    "pip install \"unstructured-inference\"\n"
   ]
  },
  {
   "cell_type": "code",
   "execution_count": null,
   "metadata": {},
   "outputs": [],
   "source": [
    "pip install detectron2@git+https://github.com/facebookresearch/detectron2.git@v0.6#egg=detectron2\n"
   ]
  },
  {
   "cell_type": "code",
   "execution_count": null,
   "metadata": {},
   "outputs": [],
   "source": [
    "pip install layoutparser[layoutmodels,tesseract]"
   ]
  },
  {
   "cell_type": "code",
   "execution_count": null,
   "metadata": {},
   "outputs": [],
   "source": [
    "pip install pypdf\n"
   ]
  },
  {
   "cell_type": "code",
   "execution_count": null,
   "metadata": {},
   "outputs": [],
   "source": [
    "pip install python-docx\n"
   ]
  },
  {
   "cell_type": "code",
   "execution_count": null,
   "metadata": {},
   "outputs": [],
   "source": [
    "pip install docx2txt"
   ]
  },
  {
   "cell_type": "code",
   "execution_count": null,
   "metadata": {},
   "outputs": [],
   "source": []
  }
 ],
 "metadata": {
  "kernelspec": {
   "display_name": "Python 3",
   "language": "python",
   "name": "python3"
  },
  "language_info": {
   "codemirror_mode": {
    "name": "ipython",
    "version": 3
   },
   "file_extension": ".py",
   "mimetype": "text/x-python",
   "name": "python",
   "nbconvert_exporter": "python",
   "pygments_lexer": "ipython3",
   "version": "3.11.9"
  }
 },
 "nbformat": 4,
 "nbformat_minor": 2
}
