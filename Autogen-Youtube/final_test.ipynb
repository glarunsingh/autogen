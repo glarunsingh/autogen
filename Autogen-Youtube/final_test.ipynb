{
 "cells": [
  {
   "cell_type": "markdown",
   "metadata": {},
   "source": [
    "# AutoGen \n",
    "\n",
    "AutoGen is an open-source framework that leverages multiple agents to enable complex workflows."
   ]
  },
  {
   "cell_type": "markdown",
   "metadata": {},
   "source": [
    "### Agents\n",
    "In AutoGen, an agent is an entity that can send messages, receive messages and generate a reply using models, tools, human inputs, and from other agents in its environment or a mixture of them."
   ]
  },
  {
   "cell_type": "markdown",
   "metadata": {},
   "source": [
    "![alt text](<Screenshot 2024-11-12 191448.png>)"
   ]
  },
  {
   "cell_type": "markdown",
   "metadata": {},
   "source": [
    "AutoGen offers a robust framework for creating AI-driven systems through various types of agents. Each agent type serves a unique role and can be combined to build complex workflows. In this post, we’ll explore the three main types of agents in AutoGen: ConversableAgent, AssistantAgent, and UserProxyAgent, along with practical examples to illustrate their use.\n",
    "\n",
    "#### 1. ConversableAgent\n",
    "ConversableAgents are designed for structured conversations. They facilitate interactions based on predefined dialogue patterns, making them ideal for tasks that require gathering specific information or following a scripted flow.\n",
    "\n",
    "#### 2. AssistantAgent\n",
    "AssistantAgents are task-oriented agents that assist with specific tasks, often providing expertise or performing actions based on user requests. They are well-suited for technical support, research assistance, or any task that requires specialized knowledge.\n",
    "\n",
    "#### 3. UserProxyAgent\n",
    "UserProxyAgents act as intermediaries between the user and the system. They relay user inputs to the appropriate agents and return responses, ensuring smooth communication across different agents."
   ]
  },
  {
   "cell_type": "code",
   "execution_count": 1,
   "metadata": {},
   "outputs": [
    {
     "name": "stdout",
     "output_type": "stream",
     "text": [
      "Requirement already satisfied: autogen in c:\\users\\janu\\appdata\\local\\programs\\python\\python311\\lib\\site-packages (0.3.1)\n",
      "Requirement already satisfied: diskcache in c:\\users\\janu\\appdata\\local\\programs\\python\\python311\\lib\\site-packages (from autogen) (5.6.3)\n",
      "Requirement already satisfied: docker in c:\\users\\janu\\appdata\\local\\programs\\python\\python311\\lib\\site-packages (from autogen) (7.1.0)\n",
      "Requirement already satisfied: flaml in c:\\users\\janu\\appdata\\local\\programs\\python\\python311\\lib\\site-packages (from autogen) (2.3.2)\n",
      "Requirement already satisfied: numpy<2,>=1.17.0 in c:\\users\\janu\\appdata\\local\\programs\\python\\python311\\lib\\site-packages (from autogen) (1.26.4)\n",
      "Requirement already satisfied: openai>=1.3 in c:\\users\\janu\\appdata\\roaming\\python\\python311\\site-packages (from autogen) (1.20.0)\n",
      "Requirement already satisfied: packaging in c:\\users\\janu\\appdata\\roaming\\python\\python311\\site-packages (from autogen) (23.2)\n",
      "Requirement already satisfied: pydantic!=2.6.0,<3,>=1.10 in c:\\users\\janu\\appdata\\local\\programs\\python\\python311\\lib\\site-packages (from autogen) (2.7.1)\n",
      "Requirement already satisfied: python-dotenv in c:\\users\\janu\\appdata\\local\\programs\\python\\python311\\lib\\site-packages (from autogen) (1.0.1)\n",
      "Requirement already satisfied: termcolor in c:\\users\\janu\\appdata\\local\\programs\\python\\python311\\lib\\site-packages (from autogen) (2.5.0)\n",
      "Requirement already satisfied: tiktoken in c:\\users\\janu\\appdata\\roaming\\python\\python311\\site-packages (from autogen) (0.5.2)\n",
      "Requirement already satisfied: anyio<5,>=3.5.0 in c:\\users\\janu\\appdata\\local\\programs\\python\\python311\\lib\\site-packages (from openai>=1.3->autogen) (4.3.0)\n",
      "Requirement already satisfied: distro<2,>=1.7.0 in c:\\users\\janu\\appdata\\local\\programs\\python\\python311\\lib\\site-packages (from openai>=1.3->autogen) (1.9.0)\n",
      "Requirement already satisfied: httpx<1,>=0.23.0 in c:\\users\\janu\\appdata\\roaming\\python\\python311\\site-packages (from openai>=1.3->autogen) (0.27.0)\n",
      "Requirement already satisfied: sniffio in c:\\users\\janu\\appdata\\local\\programs\\python\\python311\\lib\\site-packages (from openai>=1.3->autogen) (1.3.1)\n",
      "Requirement already satisfied: tqdm>4 in c:\\users\\janu\\appdata\\roaming\\python\\python311\\site-packages (from openai>=1.3->autogen) (4.66.2)\n",
      "Requirement already satisfied: typing-extensions<5,>=4.7 in c:\\users\\janu\\appdata\\roaming\\python\\python311\\site-packages (from openai>=1.3->autogen) (4.11.0)\n",
      "Requirement already satisfied: annotated-types>=0.4.0 in c:\\users\\janu\\appdata\\local\\programs\\python\\python311\\lib\\site-packages (from pydantic!=2.6.0,<3,>=1.10->autogen) (0.6.0)\n",
      "Requirement already satisfied: pydantic-core==2.18.2 in c:\\users\\janu\\appdata\\local\\programs\\python\\python311\\lib\\site-packages (from pydantic!=2.6.0,<3,>=1.10->autogen) (2.18.2)\n",
      "Requirement already satisfied: pywin32>=304 in c:\\users\\janu\\appdata\\roaming\\python\\python311\\site-packages (from docker->autogen) (306)\n",
      "Requirement already satisfied: requests>=2.26.0 in c:\\users\\janu\\appdata\\local\\programs\\python\\python311\\lib\\site-packages (from docker->autogen) (2.31.0)\n",
      "Requirement already satisfied: urllib3>=1.26.0 in c:\\users\\janu\\appdata\\local\\programs\\python\\python311\\lib\\site-packages (from docker->autogen) (2.2.1)\n",
      "Requirement already satisfied: regex>=2022.1.18 in c:\\users\\janu\\appdata\\local\\programs\\python\\python311\\lib\\site-packages (from tiktoken->autogen) (2024.5.10)\n",
      "Requirement already satisfied: idna>=2.8 in c:\\users\\janu\\appdata\\local\\programs\\python\\python311\\lib\\site-packages (from anyio<5,>=3.5.0->openai>=1.3->autogen) (3.7)\n",
      "Requirement already satisfied: certifi in c:\\users\\janu\\appdata\\local\\programs\\python\\python311\\lib\\site-packages (from httpx<1,>=0.23.0->openai>=1.3->autogen) (2024.2.2)\n",
      "Requirement already satisfied: httpcore==1.* in c:\\users\\janu\\appdata\\roaming\\python\\python311\\site-packages (from httpx<1,>=0.23.0->openai>=1.3->autogen) (1.0.5)\n",
      "Requirement already satisfied: h11<0.15,>=0.13 in c:\\users\\janu\\appdata\\roaming\\python\\python311\\site-packages (from httpcore==1.*->httpx<1,>=0.23.0->openai>=1.3->autogen) (0.14.0)\n",
      "Requirement already satisfied: charset-normalizer<4,>=2 in c:\\users\\janu\\appdata\\local\\programs\\python\\python311\\lib\\site-packages (from requests>=2.26.0->docker->autogen) (3.3.2)\n",
      "Requirement already satisfied: colorama in c:\\users\\janu\\appdata\\roaming\\python\\python311\\site-packages (from tqdm>4->openai>=1.3->autogen) (0.4.6)\n",
      "Note: you may need to restart the kernel to use updated packages.\n"
     ]
    },
    {
     "name": "stderr",
     "output_type": "stream",
     "text": [
      "WARNING: Ignoring invalid distribution ~angchain-community (C:\\Users\\JANU\\AppData\\Roaming\\Python\\Python311\\site-packages)\n",
      "WARNING: Ignoring invalid distribution ~angchain-community (C:\\Users\\JANU\\AppData\\Roaming\\Python\\Python311\\site-packages)\n",
      "WARNING: Ignoring invalid distribution ~angchain-community (C:\\Users\\JANU\\AppData\\Roaming\\Python\\Python311\\site-packages)\n",
      "WARNING: Ignoring invalid distribution ~angchain-community (C:\\Users\\JANU\\AppData\\Roaming\\Python\\Python311\\site-packages)\n",
      "WARNING: Ignoring invalid distribution ~angchain-community (C:\\Users\\JANU\\AppData\\Roaming\\Python\\Python311\\site-packages)\n"
     ]
    }
   ],
   "source": [
    "pip install autogen"
   ]
  },
  {
   "cell_type": "code",
   "execution_count": 13,
   "metadata": {},
   "outputs": [],
   "source": [
    "import autogen\n",
    "from autogen import ConversableAgent, AssistantAgent, UserProxyAgent"
   ]
  },
  {
   "cell_type": "code",
   "execution_count": 14,
   "metadata": {},
   "outputs": [],
   "source": [
    "#LLM Configuration\n",
    "\n",
    "llm_config = {\n",
    "    \"timeout\":600,\n",
    "    \"config_list\": autogen.config_list_from_json(\"OAI_CONFIG_LIST\"),\n",
    "    \"temperature\": 0,\n",
    "}"
   ]
  },
  {
   "cell_type": "code",
   "execution_count": 15,
   "metadata": {},
   "outputs": [],
   "source": [
    "data_collection_prompt = \"\"\" You are a business analyst. Your job is to ask series of questions and collect the requirements from the user. \n",
    "Get all the necessary information required for the project from requirement gathering, design, develop, test and deployment.\n",
    "\n",
    "Don't ask all the questions at once, ask one question at a time for better user experience. \n",
    "\n",
    "Once you collect all the information reply 'exit' to pass this information to the next agent\"\"\""
   ]
  },
  {
   "cell_type": "code",
   "execution_count": 7,
   "metadata": {},
   "outputs": [],
   "source": [
    "data_collection_agent = ConversableAgent(\n",
    "    name = \"data_collection_agent\",\n",
    "    system_message = data_collection_prompt,\n",
    "    llm_config = llm_config,\n",
    "    is_termination_msg = lambda msg: \"exit\" in msg[\"content\"].lower(),\n",
    ")"
   ]
  },
  {
   "cell_type": "code",
   "execution_count": 16,
   "metadata": {},
   "outputs": [],
   "source": [
    "estimation_prompt = \"\"\"\n",
    "    You are a program manager. Your job is to provide the estimates for the data collected from the data collection agent. You will provide estimates\n",
    "    with respect to resources required, time taken to complete this project, tech stack required for this process, cost of the tech stack, overall TCO.\n",
    "\"\"\""
   ]
  },
  {
   "cell_type": "code",
   "execution_count": 17,
   "metadata": {},
   "outputs": [],
   "source": [
    "estimation_agent = AssistantAgent(\n",
    "    name = \"estimation_agent\",\n",
    "    system_message = estimation_prompt,\n",
    "    llm_config = llm_config, \n",
    "    human_input_mode = \"NEVER\",\n",
    "    is_termination_msg = lambda msg: \"exit\" in msg[\"content\"].lower(),\n",
    ")"
   ]
  },
  {
   "cell_type": "code",
   "execution_count": 18,
   "metadata": {},
   "outputs": [],
   "source": [
    "user_proxy_prompt = \"\"\"\" You are an intermediary agent. Your role is to reply user inputs to the appropriate agents and return their responses.\n",
    "You do not perform any tasks yourself but ensure smooth communication between the user and the system.\"\"\""
   ]
  },
  {
   "cell_type": "code",
   "execution_count": 19,
   "metadata": {},
   "outputs": [],
   "source": [
    "user_proxy = UserProxyAgent(\n",
    "    name=\"user_proxy\",\n",
    "    human_input_mode = \"ALWAYS\",\n",
    "    llm_config = llm_config,\n",
    "    code_execution_config = False,\n",
    "    system_message = user_proxy_prompt,\n",
    "    is_termination_msg = lambda msg: \"exit\" in msg[\"content\"].lower(),\n",
    ")"
   ]
  },
  {
   "cell_type": "code",
   "execution_count": null,
   "metadata": {},
   "outputs": [
    {
     "name": "stdout",
     "output_type": "stream",
     "text": [
      "\u001b[34m\n",
      "********************************************************************************\u001b[0m\n",
      "\u001b[34mStarting a new chat....\u001b[0m\n",
      "\u001b[34m\n",
      "********************************************************************************\u001b[0m\n",
      "\u001b[33mdata_collection_agent\u001b[0m (to user_proxy):\n",
      "\n",
      "I'm a business analyst. I'll gather requirements from you by asking series of questions. Please start by giving a summary of the project which you want to build.\n",
      "\n",
      "--------------------------------------------------------------------------------\n",
      "\u001b[33muser_proxy\u001b[0m (to data_collection_agent):\n",
      "\n",
      "hi\n",
      "\n",
      "--------------------------------------------------------------------------------\n",
      "\u001b[31m\n",
      ">>>>>>>> USING AUTO REPLY...\u001b[0m\n",
      "\u001b[33mdata_collection_agent\u001b[0m (to user_proxy):\n",
      "\n",
      "Hello! I'm here to help you gather requirements for your project. Could you please provide a brief summary of the project you want to build?\n",
      "\n",
      "--------------------------------------------------------------------------------\n",
      "\u001b[34m\n",
      "********************************************************************************\u001b[0m\n",
      "\u001b[34mStarting a new chat....\u001b[0m\n",
      "\u001b[34m\n",
      "********************************************************************************\u001b[0m\n",
      "\u001b[33muser_proxy\u001b[0m (to estimation_agent):\n",
      "\n",
      "Here is the estimation for the process collected by the data collection agent.\n",
      "Context: \n",
      "The user is a business analyst looking to gather requirements for a project and has initiated the conversation by asking for a summary of the project they want to build.\n",
      "\n",
      "--------------------------------------------------------------------------------\n",
      "\u001b[33mestimation_agent\u001b[0m (to user_proxy):\n",
      "\n",
      "To provide a comprehensive estimate for the project based on the data collected by the data collection agent, we will break down the requirements into several key components: resources required, time taken to complete the project, tech stack required, cost of the tech stack, and overall Total Cost of Ownership (TCO).\n",
      "\n",
      "### 1. Resources Required\n",
      "- **Human Resources:**\n",
      "  - **Business Analyst:** 1 (to gather and document requirements)\n",
      "  - **Data Engineer:** 1 (to design and implement data pipelines)\n",
      "  - **Data Scientist:** 1 (to analyze data and build models)\n",
      "  - **Software Developer:** 1-2 (to develop the application)\n",
      "  - **QA Engineer:** 1 (to ensure quality and testing)\n",
      "  - **Project Manager:** 1 (to oversee the project)\n",
      "\n",
      "- **Infrastructure Resources:**\n",
      "  - Cloud services (e.g., AWS, Azure, or Google Cloud)\n",
      "  - Database services (e.g., SQL or NoSQL databases)\n",
      "  - Data storage solutions (e.g., S3, Blob Storage)\n",
      "\n",
      "### 2. Time Taken to Complete the Project\n",
      "- **Requirement Gathering:** 2-4 weeks\n",
      "- **Design Phase:** 2 weeks\n",
      "- **Development Phase:** 6-8 weeks\n",
      "- **Testing Phase:** 2-4 weeks\n",
      "- **Deployment and Feedback Loop:** 2 weeks\n",
      "- **Total Estimated Time:** Approximately 14-20 weeks\n",
      "\n",
      "### 3. Tech Stack Required\n",
      "- **Frontend:** \n",
      "  - React.js or Angular for building user interfaces\n",
      "- **Backend:**\n",
      "  - Node.js or Python (Flask/Django) for server-side logic\n",
      "- **Database:**\n",
      "  - PostgreSQL or MongoDB for data storage\n",
      "- **Data Processing:**\n",
      "  - Apache Spark or Pandas for data manipulation\n",
      "- **Cloud Services:**\n",
      "  - AWS (EC2, S3, RDS) or Azure (VMs, Blob Storage, SQL Database)\n",
      "- **Version Control:**\n",
      "  - Git for source code management\n",
      "- **CI/CD Tools:**\n",
      "  - Jenkins or GitHub Actions for continuous integration and deployment\n",
      "\n",
      "### 4. Cost of the Tech Stack\n",
      "- **Human Resources:**\n",
      "  - Average salary per resource (based on market rates):\n",
      "    - Business Analyst: $80,000/year\n",
      "    - Data Engineer: $100,000/year\n",
      "    - Data Scientist: $110,000/year\n",
      "    - Software Developer: $90,000/year\n",
      "    - QA Engineer: $80,000/year\n",
      "    - Project Manager: $95,000/year\n",
      "  - Total estimated cost for 20 weeks (approx. 5 months):\n",
      "    - Total Human Resource Cost: ~$150,000 - $200,000\n",
      "\n",
      "- **Cloud Services:**\n",
      "  - Estimated monthly cost for cloud services: $500 - $2,000\n",
      "  - Total for 5 months: $2,500 - $10,000\n",
      "\n",
      "- **Software Licenses and Tools:**\n",
      "  - Estimated cost for tools (e.g., GitHub, CI/CD tools): $1,000 - $5,000\n",
      "\n",
      "### 5. Overall Total Cost of Ownership (TCO)\n",
      "- **Total Human Resource Cost:** ~$150,000 - $200,000\n",
      "- **Total Cloud Services Cost:** ~$2,500 - $10,000\n",
      "- **Total Software Licenses and Tools Cost:** ~$1,000 - $5,000\n",
      "- **Overall TCO Estimate:** ~$153,500 - $215,000\n",
      "\n",
      "### Summary\n",
      "- **Resources Required:** 5-6 team members\n",
      "- **Time Taken:** 14-20 weeks\n",
      "- **Tech Stack:** React.js, Node.js, PostgreSQL, AWS, etc.\n",
      "- **Cost of Tech Stack:** ~$153,500 - $215,000\n",
      "\n",
      "This estimate provides a high-level overview of the resources, time, technology, and costs associated with the project. Adjustments may be necessary based on specific project requirements and scope changes.\n",
      "\n",
      "--------------------------------------------------------------------------------\n"
     ]
    }
   ],
   "source": [
    "chat_results = user_proxy.initiate_chats(\n",
    "    [\n",
    "        {\n",
    "            \"sender\":data_collection_agent,\n",
    "            \"recipient\": user_proxy,\n",
    "            \"message\": \"I'm a business analyst. I'll gather requirements from you by asking series of questions. Please start by giving a summary of the project which you want to build.\",\n",
    "            \"summary_method\": \"reflection_with_llm\",\n",
    "        },\n",
    "        {\n",
    "            \"sender\":data_collection_agent,\n",
    "            \"recipient\": estimation_agent,\n",
    "            \"message\": \"Here is the estimation for the process collected by the data collection agent.\",\n",
    "            \"summary_method\": \"reflection_with_llm\",\n",
    "        }\n",
    "    ]\n",
    ")"
   ]
  },
  {
   "cell_type": "code",
   "execution_count": null,
   "metadata": {},
   "outputs": [],
   "source": []
  }
 ],
 "metadata": {
  "kernelspec": {
   "display_name": "Python 3",
   "language": "python",
   "name": "python3"
  },
  "language_info": {
   "codemirror_mode": {
    "name": "ipython",
    "version": 3
   },
   "file_extension": ".py",
   "mimetype": "text/x-python",
   "name": "python",
   "nbconvert_exporter": "python",
   "pygments_lexer": "ipython3",
   "version": "3.11.9"
  }
 },
 "nbformat": 4,
 "nbformat_minor": 2
}
